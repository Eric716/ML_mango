{
  "nbformat": 4,
  "nbformat_minor": 0,
  "metadata": {
    "kernelspec": {
      "name": "python3",
      "display_name": "Python 3"
    },
    "language_info": {
      "codemirror_mode": {
        "name": "ipython",
        "version": 3
      },
      "file_extension": ".py",
      "mimetype": "text/x-python",
      "name": "python",
      "nbconvert_exporter": "python",
      "pygments_lexer": "ipython3",
      "version": "3.7.6"
    },
    "colab": {
      "name": "CNN.ipynb",
      "provenance": [],
      "collapsed_sections": [],
      "machine_shape": "hm",
      "include_colab_link": true
    },
    "accelerator": "GPU"
  },
  "cells": [
    {
      "cell_type": "markdown",
      "metadata": {
        "id": "view-in-github",
        "colab_type": "text"
      },
      "source": [
        "<a href=\"https://colab.research.google.com/github/Eric716/ML_mango/blob/main/ML_mango_keras.ipynb\" target=\"_parent\"><img src=\"https://colab.research.google.com/assets/colab-badge.svg\" alt=\"Open In Colab\"/></a>"
      ]
    },
    {
      "cell_type": "markdown",
      "metadata": {
        "id": "7pkSTQbnky4Q"
      },
      "source": [
        "## Connect GoogleColab"
      ]
    },
    {
      "cell_type": "code",
      "metadata": {
        "id": "d5bL_sOpDDda",
        "colab": {
          "base_uri": "https://localhost:8080/"
        },
        "outputId": "94ef6928-80cb-4136-b4ec-adc5d55e8b20"
      },
      "source": [
        "from google.colab import drive\n",
        "drive.mount('/content/drive')"
      ],
      "execution_count": null,
      "outputs": [
        {
          "output_type": "stream",
          "text": [
            "Mounted at /content/drive\n"
          ],
          "name": "stdout"
        }
      ]
    },
    {
      "cell_type": "code",
      "metadata": {
        "id": "q5GIFPI7lX14",
        "colab": {
          "base_uri": "https://localhost:8080/"
        },
        "outputId": "379d123d-8531-498d-f7d1-eefb1b5f0b0b"
      },
      "source": [
        "import os\n",
        "os.chdir(\"/content/drive/Shareddrives/ML/mango/\")\n",
        "!pwd\n",
        "\n"
      ],
      "execution_count": null,
      "outputs": [
        {
          "output_type": "stream",
          "text": [
            "/content/drive/Shareddrives/ML/mango\n"
          ],
          "name": "stdout"
        }
      ]
    },
    {
      "cell_type": "code",
      "metadata": {
        "colab": {
          "base_uri": "https://localhost:8080/"
        },
        "id": "GwlYL3xApsYt",
        "outputId": "c9c8ff8e-e394-4942-b57b-3e252d199ed4"
      },
      "source": [
        "!nvidia-smi"
      ],
      "execution_count": null,
      "outputs": [
        {
          "output_type": "stream",
          "text": [
            "Tue Jun 15 04:17:37 2021       \n",
            "+-----------------------------------------------------------------------------+\n",
            "| NVIDIA-SMI 465.27       Driver Version: 460.32.03    CUDA Version: 11.2     |\n",
            "|-------------------------------+----------------------+----------------------+\n",
            "| GPU  Name        Persistence-M| Bus-Id        Disp.A | Volatile Uncorr. ECC |\n",
            "| Fan  Temp  Perf  Pwr:Usage/Cap|         Memory-Usage | GPU-Util  Compute M. |\n",
            "|                               |                      |               MIG M. |\n",
            "|===============================+======================+======================|\n",
            "|   0  Tesla T4            Off  | 00000000:00:04.0 Off |                    0 |\n",
            "| N/A   50C    P8     9W /  70W |      0MiB / 15109MiB |      0%      Default |\n",
            "|                               |                      |                  N/A |\n",
            "+-------------------------------+----------------------+----------------------+\n",
            "                                                                               \n",
            "+-----------------------------------------------------------------------------+\n",
            "| Processes:                                                                  |\n",
            "|  GPU   GI   CI        PID   Type   Process name                  GPU Memory |\n",
            "|        ID   ID                                                   Usage      |\n",
            "|=============================================================================|\n",
            "|  No running processes found                                                 |\n",
            "+-----------------------------------------------------------------------------+\n"
          ],
          "name": "stdout"
        }
      ]
    },
    {
      "cell_type": "markdown",
      "metadata": {
        "id": "bUJCH3yIky4W"
      },
      "source": [
        "## 一、載入相關套件"
      ]
    },
    {
      "cell_type": "code",
      "metadata": {
        "id": "uhSAutMdky4X"
      },
      "source": [
        "# 資料處理套件\n",
        "import cv2\n",
        "import csv\n",
        "import random\n",
        "import time\n",
        "import numpy as np\n",
        "import pandas as pd\n",
        "import matplotlib.image as mpimg # mpimg 用於讀取圖片\n",
        "import matplotlib.pyplot as plt # plt 用於顯示圖片\n",
        "import seaborn as sns"
      ],
      "execution_count": null,
      "outputs": []
    },
    {
      "cell_type": "code",
      "metadata": {
        "id": "ToAwBKMcky4b"
      },
      "source": [
        "# 設定顯示中文字體\n",
        "from matplotlib.font_manager import FontProperties\n",
        "plt.rcParams['font.sans-serif'] = ['Microsoft JhengHei'] "
      ],
      "execution_count": null,
      "outputs": []
    },
    {
      "cell_type": "code",
      "metadata": {
        "id": "6nvC5t61ky4e"
      },
      "source": [
        "# Keras深度學習模組套件\n",
        "from keras.utils.np_utils import to_categorical\n",
        "from keras.preprocessing.image import ImageDataGenerator, array_to_img, img_to_array, load_img\n",
        "from keras.optimizers import RMSprop\n",
        "from keras.models import Sequential\n",
        "from keras import utils as np_utils\n",
        "from keras import backend as K\n",
        "from keras import optimizers"
      ],
      "execution_count": null,
      "outputs": []
    },
    {
      "cell_type": "code",
      "metadata": {
        "id": "DNhU-tX9ky4i"
      },
      "source": [
        "# tensorflow深度學習模組套件\n",
        "from tensorflow.keras import models\n",
        "from tensorflow.keras import layers\n",
        "from tensorflow import keras\n",
        "import tensorflow as tf"
      ],
      "execution_count": null,
      "outputs": []
    },
    {
      "cell_type": "code",
      "metadata": {
        "id": "2V7wMEdSky4n",
        "colab": {
          "base_uri": "https://localhost:8080/"
        },
        "outputId": "bbd4229d-8331-4013-ee8a-5dfadc4ad019"
      },
      "source": [
        "# 打印相關版本\n",
        "print(pd.__version__)\n",
        "print(tf.__version__)"
      ],
      "execution_count": null,
      "outputs": [
        {
          "output_type": "stream",
          "text": [
            "1.1.5\n",
            "2.5.0\n"
          ],
          "name": "stdout"
        }
      ]
    },
    {
      "cell_type": "code",
      "metadata": {
        "id": "pjG7ikFzky4q",
        "colab": {
          "base_uri": "https://localhost:8080/"
        },
        "outputId": "358d15ce-36bb-4454-f216-35479776f882"
      },
      "source": [
        "# 查看通道位置\n",
        "print(K.image_data_format())"
      ],
      "execution_count": null,
      "outputs": [
        {
          "output_type": "stream",
          "text": [
            "channels_last\n"
          ],
          "name": "stdout"
        }
      ]
    },
    {
      "cell_type": "markdown",
      "metadata": {
        "id": "1Ce_FCtAky5b"
      },
      "source": [
        "## 四、製作標籤&資料集"
      ]
    },
    {
      "cell_type": "code",
      "metadata": {
        "id": "n3rX2gA5ky5c"
      },
      "source": [
        "csvfile = open('train.csv')\n",
        "reader = csv.reader(csvfile)"
      ],
      "execution_count": null,
      "outputs": []
    },
    {
      "cell_type": "code",
      "metadata": {
        "id": "LXZeKFOQky5g"
      },
      "source": [
        "# 讀取csv標籤\n",
        "labels = []\n",
        "for line in reader:\n",
        "    tmp = [line[0],line[1]]\n",
        "    # print tmp\n",
        "    labels.append(tmp)\n",
        "\n",
        "csvfile.close() "
      ],
      "execution_count": null,
      "outputs": []
    },
    {
      "cell_type": "code",
      "metadata": {
        "id": "JrxY-sO6ky5i",
        "colab": {
          "base_uri": "https://localhost:8080/"
        },
        "outputId": "f81bca3b-1256-4f06-98b2-17c072dd6fd6"
      },
      "source": [
        "picnum = len(labels)\n",
        "print(\"芒果圖片數量: \",picnum)"
      ],
      "execution_count": null,
      "outputs": [
        {
          "output_type": "stream",
          "text": [
            "芒果圖片數量:  5601\n"
          ],
          "name": "stdout"
        }
      ]
    },
    {
      "cell_type": "code",
      "metadata": {
        "id": "JELGmZ13ky5l",
        "colab": {
          "base_uri": "https://localhost:8080/"
        },
        "outputId": "223f7344-831a-422d-a5a7-82c17daca4ba"
      },
      "source": [
        "labels[0]"
      ],
      "execution_count": null,
      "outputs": [
        {
          "output_type": "execute_result",
          "data": {
            "text/plain": [
              "['image_id', 'label']"
            ]
          },
          "metadata": {
            "tags": []
          },
          "execution_count": 12
        }
      ]
    },
    {
      "cell_type": "code",
      "metadata": {
        "id": "aG4X4zzmky5q"
      },
      "source": [
        "# 轉換圖片的標籤\n",
        "for i in range(len(labels)):\n",
        "    labels[i][1] = labels[i][1].replace(\"A\",\"0\")\n",
        "    labels[i][1] = labels[i][1].replace(\"B\",\"1\")\n",
        "    labels[i][1] = labels[i][1].replace(\"C\",\"2\")"
      ],
      "execution_count": null,
      "outputs": []
    },
    {
      "cell_type": "code",
      "metadata": {
        "id": "WLSBXLZZs9Uc",
        "colab": {
          "base_uri": "https://localhost:8080/"
        },
        "outputId": "2e267e08-547a-46d2-c83c-2fe360fedbab"
      },
      "source": [
        "print(labels[1])"
      ],
      "execution_count": null,
      "outputs": [
        {
          "output_type": "stream",
          "text": [
            "['00002.jpg', '2']\n"
          ],
          "name": "stdout"
        }
      ]
    },
    {
      "cell_type": "code",
      "metadata": {
        "id": "XasMaXzVky5s"
      },
      "source": [
        "# 隨機讀取圖片\n",
        "a = 0\n",
        "items= []"
      ],
      "execution_count": null,
      "outputs": []
    },
    {
      "cell_type": "code",
      "metadata": {
        "id": "OORjRm0Sky5n"
      },
      "source": [
        "X = []\n",
        "y = []\n",
        "res = []"
      ],
      "execution_count": null,
      "outputs": []
    },
    {
      "cell_type": "code",
      "metadata": {
        "id": "sYQnxHHVky5w"
      },
      "source": [
        "# 製作訓練用資料集及標籤\n",
        "for i in random.sample(items,500):\n",
        "    img = cv2.imread(\"C1-P1_Train/\" + labels[i][0] )\n",
        "    res = cv2.resize(img,(300,300),interpolation=cv2.INTER_LINEAR)\n",
        "    res = img_to_array(res)\n",
        "    X.append(res)    \n",
        "    y.append(labels[i][1])\n",
        "    "
      ],
      "execution_count": null,
      "outputs": []
    },
    {
      "cell_type": "code",
      "metadata": {
        "id": "bivIOE0aXTds"
      },
      "source": [
        "# 製作訓練用資料集及標籤2\n",
        "for i in random.sample(items,500):\n",
        "    img = cv2.imread(\"C1-P1_Train/\" + labels[i][0] )\n",
        "    res = cv2.resize(img,(300,300),interpolation=cv2.INTER_LINEAR)\n",
        "    res = img_to_array(res)\n",
        "    X.append(res)    \n",
        "    y.append(labels[i][1])\n",
        "    "
      ],
      "execution_count": null,
      "outputs": []
    },
    {
      "cell_type": "code",
      "metadata": {
        "id": "FE4PZPCEXW0N"
      },
      "source": [
        "# 製作訓練用資料集及標籤3\n",
        "for i in random.sample(items,500):\n",
        "    img = cv2.imread(\"C1-P1_Train/\" + labels[i][0] )\n",
        "    res = cv2.resize(img,(300,300),interpolation=cv2.INTER_LINEAR)\n",
        "    res = img_to_array(res)\n",
        "    X.append(res)    \n",
        "    y.append(labels[i][1])\n",
        "    "
      ],
      "execution_count": null,
      "outputs": []
    },
    {
      "cell_type": "code",
      "metadata": {
        "id": "9W3QpyGyXW80"
      },
      "source": [
        "# 製作訓練用資料集及標籤4\n",
        "for i in random.sample(items,500):\n",
        "    img = cv2.imread(\"C1-P1_Train/\" + labels[i][0] )\n",
        "    res = cv2.resize(img,(300,300),interpolation=cv2.INTER_LINEAR)\n",
        "    res = img_to_array(res)\n",
        "    X.append(res)    \n",
        "    y.append(labels[i][1])\n",
        "    "
      ],
      "execution_count": null,
      "outputs": []
    },
    {
      "cell_type": "code",
      "metadata": {
        "id": "6QmiSmtoXXCs"
      },
      "source": [
        "# 製作訓練用資料集及標籤5\n",
        "for i in random.sample(items,500):\n",
        "    img = cv2.imread(\"C1-P1_Train/\" + labels[i][0] )\n",
        "    res = cv2.resize(img,(300,300),interpolation=cv2.INTER_LINEAR)\n",
        "    res = img_to_array(res)\n",
        "    X.append(res)    \n",
        "    y.append(labels[i][1])\n",
        "    "
      ],
      "execution_count": null,
      "outputs": []
    },
    {
      "cell_type": "code",
      "metadata": {
        "id": "GYqGCbZ2XXHV"
      },
      "source": [
        "# 製作訓練用資料集及標籤6\n",
        "for i in random.sample(items,500):\n",
        "    img = cv2.imread(\"C1-P1_Train/\" + labels[i][0] )\n",
        "    res = cv2.resize(img,(300,300),interpolation=cv2.INTER_LINEAR)\n",
        "    res = img_to_array(res)\n",
        "    X.append(res)    \n",
        "    y.append(labels[i][1])\n",
        "    "
      ],
      "execution_count": null,
      "outputs": []
    },
    {
      "cell_type": "code",
      "metadata": {
        "id": "1n2rdudiXXK8"
      },
      "source": [
        "# 製作訓練用資料集及標籤7\n",
        "for i in random.sample(items,500):\n",
        "    img = cv2.imread(\"C1-P1_Train/\" + labels[i][0] )\n",
        "    res = cv2.resize(img,(300,300),interpolation=cv2.INTER_LINEAR)\n",
        "    res = img_to_array(res)\n",
        "    X.append(res)    \n",
        "    y.append(labels[i][1])\n",
        "    "
      ],
      "execution_count": null,
      "outputs": []
    },
    {
      "cell_type": "code",
      "metadata": {
        "id": "KXgPVjRhXXOY"
      },
      "source": [
        "# 製作訓練用資料集及標籤8\n",
        "for i in random.sample(items,500):\n",
        "    img = cv2.imread(\"C1-P1_Train/\" + labels[i][0] )\n",
        "    res = cv2.resize(img,(300,300),interpolation=cv2.INTER_LINEAR)\n",
        "    res = img_to_array(res)\n",
        "    X.append(res)    \n",
        "    y.append(labels[i][1])\n",
        "    "
      ],
      "execution_count": null,
      "outputs": []
    },
    {
      "cell_type": "code",
      "metadata": {
        "id": "iZhyU2ANky5y"
      },
      "source": [
        "y_label_org = y"
      ],
      "execution_count": null,
      "outputs": []
    },
    {
      "cell_type": "code",
      "metadata": {
        "id": "ss-j56J1ky54",
        "colab": {
          "base_uri": "https://localhost:8080/"
        },
        "outputId": "bbd3e64b-2efb-4599-b824-29a3f03eefaa"
      },
      "source": [
        "print(len(X))\n",
        "print(len(y))"
      ],
      "execution_count": null,
      "outputs": [
        {
          "output_type": "stream",
          "text": [
            "4000\n",
            "4000\n"
          ],
          "name": "stdout"
        }
      ]
    },
    {
      "cell_type": "code",
      "metadata": {
        "id": "U7d5quZCky55"
      },
      "source": [
        "# 轉換至array的格式\n",
        "X = np.array(X)\n",
        "y = np.array(y)"
      ],
      "execution_count": null,
      "outputs": []
    },
    {
      "cell_type": "code",
      "metadata": {
        "id": "8BIgyAY7ky57"
      },
      "source": [
        "# 轉換至float的格式\n",
        "for i in range(len(X)):\n",
        "    X[i] = X[i].astype('float32')"
      ],
      "execution_count": null,
      "outputs": []
    },
    {
      "cell_type": "code",
      "metadata": {
        "id": "AKmCzMGsky59",
        "colab": {
          "base_uri": "https://localhost:8080/"
        },
        "outputId": "11231c10-03cd-4c23-ce32-14a0f7900b51"
      },
      "source": [
        "# 打映圖片訓練集的概況\n",
        "# print(X[0])\n",
        "print(type(X))\n",
        "print(X.shape)\n",
        "A\n",
        "print(X[0].shape)\n",
        "print(type(X[0]))"
      ],
      "execution_count": null,
      "outputs": [
        {
          "output_type": "stream",
          "text": [
            "<class 'numpy.ndarray'>\n",
            "(4000, 300, 300, 3)\n",
            "(300, 300, 3)\n",
            "<class 'numpy.ndarray'>\n"
          ],
          "name": "stdout"
        }
      ]
    },
    {
      "cell_type": "code",
      "metadata": {
        "id": "fucIRN4Uky5_"
      },
      "source": [
        "# 將標籤轉換至float格式\n",
        "y = tf.strings.to_number(y, out_type=tf.float32)"
      ],
      "execution_count": null,
      "outputs": []
    },
    {
      "cell_type": "code",
      "metadata": {
        "id": "BlRzPppPky6B",
        "colab": {
          "base_uri": "https://localhost:8080/"
        },
        "outputId": "5372d140-dc53-41d9-df3d-cae7cf68c12a"
      },
      "source": [
        "# 打映圖片標籤的概況\n",
        "print(y[0])\n",
        "#print(type(y[0]))"
      ],
      "execution_count": null,
      "outputs": [
        {
          "output_type": "stream",
          "text": [
            "tf.Tensor(2.0, shape=(), dtype=float32)\n"
          ],
          "name": "stdout"
        }
      ]
    },
    {
      "cell_type": "code",
      "metadata": {
        "id": "RY-hgQ0uuTAq"
      },
      "source": [
        "from keras import utils as np_utils"
      ],
      "execution_count": null,
      "outputs": []
    },
    {
      "cell_type": "code",
      "metadata": {
        "id": "Eq-1jCCaky6D"
      },
      "source": [
        "# 標籤進行one-hotencoding\n",
        "\n",
        "y = keras.utils.to_categorical(y, num_classes = 3)"
      ],
      "execution_count": null,
      "outputs": []
    },
    {
      "cell_type": "code",
      "metadata": {
        "id": "CiqdGCCAky6G",
        "colab": {
          "base_uri": "https://localhost:8080/"
        },
        "outputId": "85d52afb-196b-4d6a-ff95-8696655b29de"
      },
      "source": [
        "y[0]"
      ],
      "execution_count": null,
      "outputs": [
        {
          "output_type": "execute_result",
          "data": {
            "text/plain": [
              "array([0., 0., 1.], dtype=float32)"
            ]
          },
          "metadata": {
            "tags": []
          },
          "execution_count": 36
        }
      ]
    },
    {
      "cell_type": "markdown",
      "metadata": {
        "id": "B_tpTHuwky6I"
      },
      "source": [
        "## 五、製作訓練資料集"
      ]
    },
    {
      "cell_type": "code",
      "metadata": {
        "id": "gcHqHmdtH8Yx"
      },
      "source": [
        "# 分配訓練集及測試集比例\n",
        "x_train = X[:3800]\n",
        "y_train = y[:3800]\n",
        "x_test = X[3800:]\n",
        "y_test = y[3800:]"
      ],
      "execution_count": null,
      "outputs": []
    },
    {
      "cell_type": "code",
      "metadata": {
        "id": "ZQwUinV8ky6O"
      },
      "source": [
        "y_train_label = [0.,0.,0.]\n",
        "\n",
        "for i in range(0,len(y_train)):\n",
        "    y_train_label = y_train[i] + y_train_label"
      ],
      "execution_count": null,
      "outputs": []
    },
    {
      "cell_type": "code",
      "metadata": {
        "id": "7mYxm5tWky6Q"
      },
      "source": [
        "y_test_label = [0.,0.,0.]\n",
        "\n",
        "for i in range(0,len(y_test)):\n",
        "    y_test_label = y_train[i] + y_test_label"
      ],
      "execution_count": null,
      "outputs": []
    },
    {
      "cell_type": "code",
      "metadata": {
        "id": "NeaCWuopky6S",
        "colab": {
          "base_uri": "https://localhost:8080/"
        },
        "outputId": "6a37f1b9-a998-4640-a204-d67e28eaa7b2"
      },
      "source": [
        "y_train_label"
      ],
      "execution_count": null,
      "outputs": [
        {
          "output_type": "execute_result",
          "data": {
            "text/plain": [
              "array([1238., 1371., 1191.])"
            ]
          },
          "metadata": {
            "tags": []
          },
          "execution_count": 40
        }
      ]
    },
    {
      "cell_type": "code",
      "metadata": {
        "id": "-yYjqm8Pky6T",
        "colab": {
          "base_uri": "https://localhost:8080/"
        },
        "outputId": "f8f87093-38df-45ab-9e04-99fc3de94e1b"
      },
      "source": [
        "y_test_label"
      ],
      "execution_count": null,
      "outputs": [
        {
          "output_type": "execute_result",
          "data": {
            "text/plain": [
              "array([74., 69., 57.])"
            ]
          },
          "metadata": {
            "tags": []
          },
          "execution_count": 41
        }
      ]
    },
    {
      "cell_type": "code",
      "metadata": {
        "id": "iSR_rVMCky6V",
        "colab": {
          "base_uri": "https://localhost:8080/"
        },
        "outputId": "7a267087-3aa0-4e99-d874-cdd8660f2956"
      },
      "source": [
        "print(type(x_train))\n",
        "print(len(x_train))\n",
        "print(x_train.shape)\n",
        "print(type(x_train[0]))"
      ],
      "execution_count": null,
      "outputs": [
        {
          "output_type": "stream",
          "text": [
            "<class 'numpy.ndarray'>\n",
            "3800\n",
            "(3800, 300, 300, 3)\n",
            "<class 'numpy.ndarray'>\n"
          ],
          "name": "stdout"
        }
      ]
    },
    {
      "cell_type": "markdown",
      "metadata": {
        "id": "jSgZDN_Gky6X"
      },
      "source": [
        "## 六、建立與訓練深度學習Model"
      ]
    },
    {
      "cell_type": "code",
      "metadata": {
        "id": "7d3HiBH0ky6X",
        "colab": {
          "base_uri": "https://localhost:8080/"
        },
        "outputId": "ee155dac-b744-4eec-ed01-9ff3710dc18e"
      },
      "source": [
        "# 建立深度學習CNN Model\n",
        "\n",
        "model = tf.keras.Sequential()\n",
        "\n",
        "model.add(layers.Conv2D(16,(3,3),\n",
        "                 strides=(1,1),\n",
        "                 input_shape=(300, 300, 3),\n",
        "                 padding='same',\n",
        "                 activation='relu',\n",
        "                 ))\n",
        "\n",
        "model.add(layers.BatchNormalization())\n",
        "\n",
        "model.add(layers.MaxPooling2D(pool_size=(2,2),strides=None))\n",
        "\n",
        "model.add(layers.Conv2D(32,(3,3),\n",
        "                 strides=(1,1),\n",
        "                 padding='same',\n",
        "                 activation='relu',\n",
        "                 ))\n",
        "\n",
        "model.add(layers.MaxPooling2D(pool_size=(2,2),strides=None))\n",
        "\n",
        "model.add(layers.Conv2D(64,(3,3),\n",
        "                 strides=(1,1),\n",
        "                 padding='same',\n",
        "                 activation='relu',\n",
        "                 ))\n",
        "\n",
        "\n",
        "model.add(layers.Dense(32,activation='relu'))\n",
        "\n",
        "model.add(layers.MaxPooling2D(pool_size=(2,2),strides=None))\n",
        "\n",
        "model.add(layers.Flatten())\n",
        "\n",
        "model.add(layers.Dense(64,activation='relu'))\n",
        "\n",
        "model.add(layers.Dense(128,activation='relu'))\n",
        "\n",
        "model.add(layers.Dropout(0.2))\n",
        "\n",
        "model.add(layers.Dense(3,activation='softmax'))\n",
        "\n",
        "model.summary()"
      ],
      "execution_count": null,
      "outputs": [
        {
          "output_type": "stream",
          "text": [
            "Model: \"sequential\"\n",
            "_________________________________________________________________\n",
            "Layer (type)                 Output Shape              Param #   \n",
            "=================================================================\n",
            "conv2d (Conv2D)              (None, 300, 300, 16)      448       \n",
            "_________________________________________________________________\n",
            "batch_normalization (BatchNo (None, 300, 300, 16)      64        \n",
            "_________________________________________________________________\n",
            "max_pooling2d (MaxPooling2D) (None, 150, 150, 16)      0         \n",
            "_________________________________________________________________\n",
            "conv2d_1 (Conv2D)            (None, 150, 150, 32)      4640      \n",
            "_________________________________________________________________\n",
            "max_pooling2d_1 (MaxPooling2 (None, 75, 75, 32)        0         \n",
            "_________________________________________________________________\n",
            "conv2d_2 (Conv2D)            (None, 75, 75, 64)        18496     \n",
            "_________________________________________________________________\n",
            "dense (Dense)                (None, 75, 75, 32)        2080      \n",
            "_________________________________________________________________\n",
            "max_pooling2d_2 (MaxPooling2 (None, 37, 37, 32)        0         \n",
            "_________________________________________________________________\n",
            "flatten (Flatten)            (None, 43808)             0         \n",
            "_________________________________________________________________\n",
            "dense_1 (Dense)              (None, 64)                2803776   \n",
            "_________________________________________________________________\n",
            "dense_2 (Dense)              (None, 128)               8320      \n",
            "_________________________________________________________________\n",
            "dropout (Dropout)            (None, 128)               0         \n",
            "_________________________________________________________________\n",
            "dense_3 (Dense)              (None, 3)                 387       \n",
            "=================================================================\n",
            "Total params: 2,838,211\n",
            "Trainable params: 2,838,179\n",
            "Non-trainable params: 32\n",
            "_________________________________________________________________\n"
          ],
          "name": "stdout"
        }
      ]
    },
    {
      "cell_type": "markdown",
      "metadata": {
        "id": "XXgN-ONmky6c"
      },
      "source": [
        "history = model.compile(optimizer='adam',\n",
        "              loss=tf.keras.losses.SparseCategoricalCrossentropy(),\n",
        "              metrics=[tf.keras.metrics.SparseCategoricalAccuracy()])"
      ]
    },
    {
      "cell_type": "code",
      "metadata": {
        "id": "kbzQaqoVky6c",
        "colab": {
          "base_uri": "https://localhost:8080/"
        },
        "outputId": "2c4b3c2b-ef37-4731-d879-a4983099e6b3"
      },
      "source": [
        "adam = tf.keras.optimizers.Adam(lr=0.001)\n",
        "model.compile(optimizer='adam',\n",
        "              loss=tf.keras.losses.CategoricalCrossentropy(),\n",
        "              metrics=['acc'],)"
      ],
      "execution_count": null,
      "outputs": [
        {
          "output_type": "stream",
          "text": [
            "/usr/local/lib/python3.7/dist-packages/tensorflow/python/keras/optimizer_v2/optimizer_v2.py:375: UserWarning: The `lr` argument is deprecated, use `learning_rate` instead.\n",
            "  \"The `lr` argument is deprecated, use `learning_rate` instead.\")\n"
          ],
          "name": "stderr"
        }
      ]
    },
    {
      "cell_type": "code",
      "metadata": {
        "id": "aoKLYjDwky6e"
      },
      "source": [
        "# zca_whitening 對輸入數據施加ZCA白化\n",
        "# rotation_range 數據提升時圖片隨機轉動的角度\n",
        "# width_shift_range 圖片寬度的某個比例，數據提升時圖片水平偏移的幅度\n",
        "# shear_range 剪切強度（逆時針方向的剪切變換角度）\n",
        "# zoom_range 隨機縮放的幅度\n",
        "# horizontal_flip 進行隨機水平翻轉\n",
        "# fill_mode ‘constant’，‘nearest’，‘reflect’或‘wrap’之一，當進行變換時超出邊界的點將根據本參數給定的方法進行處理\n",
        "\n",
        "datagen = ImageDataGenerator(\n",
        "    zca_whitening=False,\n",
        "    rotation_range=40,\n",
        "    width_shift_range=0.2,\n",
        "    height_shift_range=0.2,\n",
        "   zoom_range=0.2,\n",
        "   horizontal_flip=True,\n",
        "    fill_mode='nearest')"
      ],
      "execution_count": null,
      "outputs": []
    },
    {
      "cell_type": "code",
      "metadata": {
        "id": "_5jKNPtDLnHy",
        "colab": {
          "base_uri": "https://localhost:8080/"
        },
        "outputId": "8b3750a2-23d4-4a31-f502-70ecec917b4c"
      },
      "source": [
        "# 導入圖像增強參數\n",
        "datagen.fit(x_train)\n",
        "x_train = x_train/255\n",
        "x_test = x_test/255\n",
        "print('rescale！done!')"
      ],
      "execution_count": null,
      "outputs": [
        {
          "output_type": "stream",
          "text": [
            "rescale！done!\n"
          ],
          "name": "stdout"
        }
      ]
    },
    {
      "cell_type": "code",
      "metadata": {
        "id": "hYT65lw9ky6h"
      },
      "source": [
        "# 設定超參數HyperParameters \n",
        "batch_size = 32\n",
        "epochs = 60"
      ],
      "execution_count": null,
      "outputs": []
    },
    {
      "cell_type": "code",
      "metadata": {
        "id": "jWzNYwUUky6i"
      },
      "source": [
        "# 檔名設定\n",
        "file_name = str(epochs)+'_'+str(batch_size)+'06150130'"
      ],
      "execution_count": null,
      "outputs": []
    },
    {
      "cell_type": "code",
      "metadata": {
        "id": "f_hwYf7zky6k"
      },
      "source": [
        "# 加入EarlyStopping以及Tensorboard等回調函數\n",
        "#CB = tf.keras.callbacks.EarlyStopping(monitor='val_loss', patience=15, restore_best_weights='true')\n",
        "TB = keras.callbacks.TensorBoard(log_dir='./log'+\"_\"+file_name, histogram_freq=1)"
      ],
      "execution_count": null,
      "outputs": []
    },
    {
      "cell_type": "code",
      "metadata": {
        "id": "s7wKdKcQ0658",
        "colab": {
          "base_uri": "https://localhost:8080/"
        },
        "outputId": "18814e66-4a39-4848-d987-12110f4346f5"
      },
      "source": [
        "from tensorflow.keras.callbacks import ModelCheckpoint\n",
        "checkpointer = ModelCheckpoint(filepath='./checkpoint'+file_name,\n",
        "                               save_weights_only=True,\n",
        "                               verbose=1,\n",
        "                               period=10)"
      ],
      "execution_count": null,
      "outputs": [
        {
          "output_type": "stream",
          "text": [
            "WARNING:tensorflow:`period` argument is deprecated. Please use `save_freq` to specify the frequency in number of batches seen.\n"
          ],
          "name": "stdout"
        }
      ]
    },
    {
      "cell_type": "code",
      "metadata": {
        "id": "EK-cClUXG4E9",
        "colab": {
          "base_uri": "https://localhost:8080/"
        },
        "outputId": "f806d095-0c24-4b80-efdf-f0d18239e8e3"
      },
      "source": [
        "history = model.fit(\n",
        "    x = x_train , y = y_train,\n",
        "    batch_size = batch_size,\n",
        "    epochs = epochs,\n",
        "    validation_split = 0.2,\n",
        "    callbacks = [TB,checkpointer]\n",
        ")"
      ],
      "execution_count": null,
      "outputs": [
        {
          "output_type": "stream",
          "text": [
            "Epoch 1/60\n",
            "95/95 [==============================] - 44s 149ms/step - loss: 1.0631 - acc: 0.4803 - val_loss: 1.0786 - val_acc: 0.4171\n",
            "Epoch 2/60\n",
            "95/95 [==============================] - 13s 134ms/step - loss: 0.8497 - acc: 0.5938 - val_loss: 1.0464 - val_acc: 0.4197\n",
            "Epoch 3/60\n",
            "95/95 [==============================] - 13s 132ms/step - loss: 0.7661 - acc: 0.6556 - val_loss: 0.9918 - val_acc: 0.4855\n",
            "Epoch 4/60\n",
            "95/95 [==============================] - 12s 131ms/step - loss: 0.6409 - acc: 0.7191 - val_loss: 0.8853 - val_acc: 0.5921\n",
            "Epoch 5/60\n",
            "95/95 [==============================] - 12s 131ms/step - loss: 0.5266 - acc: 0.7707 - val_loss: 0.7414 - val_acc: 0.6711\n",
            "Epoch 6/60\n",
            "95/95 [==============================] - 13s 132ms/step - loss: 0.4247 - acc: 0.8161 - val_loss: 0.7069 - val_acc: 0.7026\n",
            "Epoch 7/60\n",
            "95/95 [==============================] - 13s 132ms/step - loss: 0.2896 - acc: 0.8809 - val_loss: 0.6882 - val_acc: 0.7724\n",
            "Epoch 8/60\n",
            "95/95 [==============================] - 12s 132ms/step - loss: 0.2185 - acc: 0.9145 - val_loss: 0.7913 - val_acc: 0.7632\n",
            "Epoch 9/60\n",
            "95/95 [==============================] - 13s 133ms/step - loss: 0.1856 - acc: 0.9283 - val_loss: 0.9426 - val_acc: 0.7868\n",
            "Epoch 10/60\n",
            "95/95 [==============================] - 13s 134ms/step - loss: 0.1450 - acc: 0.9461 - val_loss: 0.9556 - val_acc: 0.7763\n",
            "\n",
            "Epoch 00010: saving model to ./checkpoint60_3206150130\n",
            "Epoch 11/60\n",
            "95/95 [==============================] - 13s 133ms/step - loss: 0.1174 - acc: 0.9628 - val_loss: 0.8660 - val_acc: 0.7921\n",
            "Epoch 12/60\n",
            "95/95 [==============================] - 13s 132ms/step - loss: 0.0837 - acc: 0.9688 - val_loss: 1.5269 - val_acc: 0.7342\n",
            "Epoch 13/60\n",
            "95/95 [==============================] - 13s 132ms/step - loss: 0.0704 - acc: 0.9740 - val_loss: 1.5215 - val_acc: 0.7474\n",
            "Epoch 14/60\n",
            "95/95 [==============================] - 13s 132ms/step - loss: 0.1057 - acc: 0.9694 - val_loss: 1.1385 - val_acc: 0.8118\n",
            "Epoch 15/60\n",
            "95/95 [==============================] - 13s 133ms/step - loss: 0.0600 - acc: 0.9793 - val_loss: 1.1500 - val_acc: 0.7974\n",
            "Epoch 16/60\n",
            "95/95 [==============================] - 12s 131ms/step - loss: 0.0750 - acc: 0.9786 - val_loss: 1.1660 - val_acc: 0.7158\n",
            "Epoch 17/60\n",
            "95/95 [==============================] - 13s 133ms/step - loss: 0.0550 - acc: 0.9812 - val_loss: 1.4511 - val_acc: 0.7868\n",
            "Epoch 18/60\n",
            "95/95 [==============================] - 13s 132ms/step - loss: 0.0500 - acc: 0.9816 - val_loss: 1.1946 - val_acc: 0.7987\n",
            "Epoch 19/60\n",
            "95/95 [==============================] - 12s 132ms/step - loss: 0.0350 - acc: 0.9878 - val_loss: 1.3485 - val_acc: 0.8158\n",
            "Epoch 20/60\n",
            "95/95 [==============================] - 13s 133ms/step - loss: 0.0147 - acc: 0.9947 - val_loss: 1.5141 - val_acc: 0.7921\n",
            "\n",
            "Epoch 00020: saving model to ./checkpoint60_3206150130\n",
            "Epoch 21/60\n",
            "95/95 [==============================] - 13s 133ms/step - loss: 0.0529 - acc: 0.9826 - val_loss: 1.3014 - val_acc: 0.7803\n",
            "Epoch 22/60\n",
            "95/95 [==============================] - 13s 132ms/step - loss: 0.0654 - acc: 0.9789 - val_loss: 1.1832 - val_acc: 0.7842\n",
            "Epoch 23/60\n",
            "95/95 [==============================] - 13s 133ms/step - loss: 0.0292 - acc: 0.9905 - val_loss: 1.4434 - val_acc: 0.8132\n",
            "Epoch 24/60\n",
            "95/95 [==============================] - 13s 132ms/step - loss: 0.0193 - acc: 0.9931 - val_loss: 1.4793 - val_acc: 0.8013\n",
            "Epoch 25/60\n",
            "95/95 [==============================] - 13s 133ms/step - loss: 0.0069 - acc: 0.9967 - val_loss: 1.6505 - val_acc: 0.7974\n",
            "Epoch 26/60\n",
            "95/95 [==============================] - 13s 132ms/step - loss: 0.0086 - acc: 0.9967 - val_loss: 1.7936 - val_acc: 0.7921\n",
            "Epoch 27/60\n",
            "95/95 [==============================] - 12s 132ms/step - loss: 0.0148 - acc: 0.9937 - val_loss: 1.8256 - val_acc: 0.8039\n",
            "Epoch 28/60\n",
            "95/95 [==============================] - 13s 133ms/step - loss: 0.0453 - acc: 0.9878 - val_loss: 1.7851 - val_acc: 0.7303\n",
            "Epoch 29/60\n",
            "95/95 [==============================] - 13s 133ms/step - loss: 0.0436 - acc: 0.9862 - val_loss: 1.4408 - val_acc: 0.7776\n",
            "Epoch 30/60\n",
            "95/95 [==============================] - 13s 133ms/step - loss: 0.0145 - acc: 0.9941 - val_loss: 1.6449 - val_acc: 0.8079\n",
            "\n",
            "Epoch 00030: saving model to ./checkpoint60_3206150130\n",
            "Epoch 31/60\n",
            "95/95 [==============================] - 13s 132ms/step - loss: 0.0050 - acc: 0.9977 - val_loss: 1.5656 - val_acc: 0.8039\n",
            "Epoch 32/60\n",
            "95/95 [==============================] - 13s 134ms/step - loss: 0.0060 - acc: 0.9967 - val_loss: 2.0375 - val_acc: 0.8000\n",
            "Epoch 33/60\n",
            "95/95 [==============================] - 13s 133ms/step - loss: 0.0610 - acc: 0.9812 - val_loss: 1.3513 - val_acc: 0.7605\n",
            "Epoch 34/60\n",
            "95/95 [==============================] - 13s 134ms/step - loss: 0.0256 - acc: 0.9931 - val_loss: 1.4897 - val_acc: 0.7855\n",
            "Epoch 35/60\n",
            "95/95 [==============================] - 12s 131ms/step - loss: 0.0199 - acc: 0.9947 - val_loss: 1.4850 - val_acc: 0.8105\n",
            "Epoch 36/60\n",
            "95/95 [==============================] - 12s 131ms/step - loss: 0.0209 - acc: 0.9980 - val_loss: 1.2868 - val_acc: 0.8066\n",
            "Epoch 37/60\n",
            "95/95 [==============================] - 12s 131ms/step - loss: 0.0034 - acc: 0.9990 - val_loss: 1.5007 - val_acc: 0.8066\n",
            "Epoch 38/60\n",
            "95/95 [==============================] - 13s 134ms/step - loss: 0.0025 - acc: 0.9990 - val_loss: 1.6087 - val_acc: 0.8118\n",
            "Epoch 39/60\n",
            "95/95 [==============================] - 13s 134ms/step - loss: 0.0021 - acc: 0.9987 - val_loss: 1.6627 - val_acc: 0.8105\n",
            "Epoch 40/60\n",
            "95/95 [==============================] - 13s 132ms/step - loss: 0.0021 - acc: 0.9987 - val_loss: 1.7100 - val_acc: 0.8158\n",
            "\n",
            "Epoch 00040: saving model to ./checkpoint60_3206150130\n",
            "Epoch 41/60\n",
            "95/95 [==============================] - 13s 132ms/step - loss: 0.0020 - acc: 0.9990 - val_loss: 1.7435 - val_acc: 0.8132\n",
            "Epoch 42/60\n",
            "95/95 [==============================] - 13s 133ms/step - loss: 0.0019 - acc: 0.9990 - val_loss: 1.8265 - val_acc: 0.8171\n",
            "Epoch 43/60\n",
            "95/95 [==============================] - 13s 132ms/step - loss: 0.0019 - acc: 0.9993 - val_loss: 1.8791 - val_acc: 0.8118\n",
            "Epoch 44/60\n",
            "95/95 [==============================] - 13s 132ms/step - loss: 0.0019 - acc: 0.9990 - val_loss: 1.8923 - val_acc: 0.8158\n",
            "Epoch 45/60\n",
            "95/95 [==============================] - 13s 132ms/step - loss: 0.0019 - acc: 0.9990 - val_loss: 1.8299 - val_acc: 0.8105\n",
            "Epoch 46/60\n",
            "95/95 [==============================] - 13s 135ms/step - loss: 0.0019 - acc: 0.9987 - val_loss: 1.8649 - val_acc: 0.8211\n",
            "Epoch 47/60\n",
            "95/95 [==============================] - 13s 134ms/step - loss: 0.0018 - acc: 0.9990 - val_loss: 1.9110 - val_acc: 0.8171\n",
            "Epoch 48/60\n",
            "95/95 [==============================] - 13s 133ms/step - loss: 0.0018 - acc: 0.9990 - val_loss: 1.9451 - val_acc: 0.8171\n",
            "Epoch 49/60\n",
            "95/95 [==============================] - 13s 133ms/step - loss: 0.0018 - acc: 0.9990 - val_loss: 1.9717 - val_acc: 0.8250\n",
            "Epoch 50/60\n",
            "95/95 [==============================] - 12s 132ms/step - loss: 0.0019 - acc: 0.9987 - val_loss: 1.9977 - val_acc: 0.8184\n",
            "\n",
            "Epoch 00050: saving model to ./checkpoint60_3206150130\n",
            "Epoch 51/60\n",
            "95/95 [==============================] - 13s 132ms/step - loss: 0.0018 - acc: 0.9987 - val_loss: 2.0410 - val_acc: 0.8211\n",
            "Epoch 52/60\n",
            "95/95 [==============================] - 13s 132ms/step - loss: 0.1400 - acc: 0.9566 - val_loss: 2.0283 - val_acc: 0.6882\n",
            "Epoch 53/60\n",
            "95/95 [==============================] - 13s 134ms/step - loss: 0.1554 - acc: 0.9500 - val_loss: 1.4217 - val_acc: 0.7224\n",
            "Epoch 54/60\n",
            "95/95 [==============================] - 13s 134ms/step - loss: 0.0416 - acc: 0.9859 - val_loss: 1.4399 - val_acc: 0.7724\n",
            "Epoch 55/60\n",
            "95/95 [==============================] - 13s 133ms/step - loss: 0.0371 - acc: 0.9921 - val_loss: 1.4581 - val_acc: 0.8039\n",
            "Epoch 56/60\n",
            "95/95 [==============================] - 13s 133ms/step - loss: 0.0138 - acc: 0.9941 - val_loss: 1.8854 - val_acc: 0.7829\n",
            "Epoch 57/60\n",
            "95/95 [==============================] - 13s 133ms/step - loss: 0.0037 - acc: 0.9987 - val_loss: 1.6867 - val_acc: 0.8184\n",
            "Epoch 58/60\n",
            "95/95 [==============================] - 13s 132ms/step - loss: 0.0047 - acc: 0.9980 - val_loss: 1.7154 - val_acc: 0.8158\n",
            "Epoch 59/60\n",
            "95/95 [==============================] - 13s 132ms/step - loss: 0.0165 - acc: 0.9947 - val_loss: 1.5849 - val_acc: 0.8053\n",
            "Epoch 60/60\n",
            "95/95 [==============================] - 12s 131ms/step - loss: 0.0079 - acc: 0.9974 - val_loss: 1.8106 - val_acc: 0.7947\n",
            "\n",
            "Epoch 00060: saving model to ./checkpoint60_3206150130\n"
          ],
          "name": "stdout"
        }
      ]
    },
    {
      "cell_type": "markdown",
      "metadata": {
        "id": "z8hITtykky6p"
      },
      "source": [
        "## 柒、繪製Model學習成效"
      ]
    },
    {
      "cell_type": "code",
      "metadata": {
        "id": "C5zs_dGRky6p"
      },
      "source": [
        "def plot_learning_curves(history):\n",
        "    pd.DataFrame(history.history).plot(figsize=(8,5))\n",
        "    plt.grid(True)\n",
        "    plt.gca().set_ylim(0,1.2)\n",
        "    plt.show()"
      ],
      "execution_count": null,
      "outputs": []
    },
    {
      "cell_type": "code",
      "metadata": {
        "id": "PBKx5lEAky6r",
        "colab": {
          "base_uri": "https://localhost:8080/"
        },
        "outputId": "dd72ecb7-3b2d-493c-d0c8-39669784d72f"
      },
      "source": [
        "plot_learning_curves(history)"
      ],
      "execution_count": null,
      "outputs": [
        {
          "output_type": "stream",
          "text": [
            "findfont: Font family ['sans-serif'] not found. Falling back to DejaVu Sans.\n"
          ],
          "name": "stderr"
        },
        {
          "output_type": "display_data",
          "data": {
            "image/png": "[encoded data removed]",
            "text/plain": [
              "<Figure size 576x360 with 1 Axes>"
            ]
          },
          "metadata": {
            "tags": [],
            "needs_background": "light"
          }
        }
      ]
    },
    {
      "cell_type": "markdown",
      "metadata": {
        "id": "9TJq37Baky6u"
      },
      "source": [
        "## 捌、推測圖片"
      ]
    },
    {
      "cell_type": "code",
      "metadata": {
        "id": "ZVMo3WKEky6u"
      },
      "source": [
        "test_mango_dir = os.path.join(\"C1-P1_Dev/\")\n",
        "test_mango_fnames = os.listdir(test_mango_dir)"
      ],
      "execution_count": null,
      "outputs": []
    },
    {
      "cell_type": "code",
      "metadata": {
        "id": "Q3g9nZ8Nky6w",
        "colab": {
          "base_uri": "https://localhost:8080/"
        },
        "outputId": "d848975b-cd91-4746-8873-727b1c48142f"
      },
      "source": [
        "i=random.randint(0,800)\n",
        "test_mango_fnames[i]"
      ],
      "execution_count": null,
      "outputs": [
        {
          "output_type": "execute_result",
          "data": {
            "application/vnd.google.colaboratory.intrinsic+json": {
              "type": "string"
            },
            "text/plain": [
              "'02105.jpg'"
            ]
          },
          "metadata": {
            "tags": []
          },
          "execution_count": 56
        }
      ]
    },
    {
      "cell_type": "code",
      "metadata": {
        "id": "klkQY_QCky6x",
        "colab": {
          "base_uri": "https://localhost:8080/"
        },
        "outputId": "3bf93ef6-3cfc-4cb2-8a21-694ae1a112c4"
      },
      "source": [
        "img_files = [os.path.join(test_mango_dir,f) for f in test_mango_fnames]\n",
        "img_path = random.choice(img_files)\n",
        "\n",
        "# 讀入待測試圖像並秀出\n",
        "img = load_img(img_path, target_size=(300, 300))  # this is a PIL image\n",
        "plt.title(img_path)\n",
        "plt.grid(False)\n",
        "plt.imshow(img)"
      ],
      "execution_count": null,
      "outputs": [
        {
          "output_type": "execute_result",
          "data": {
            "text/plain": [
              "<matplotlib.image.AxesImage at 0x7ff655352ed0>"
            ]
          },
          "metadata": {
            "tags": []
          },
          "execution_count": 57
        },
        {
          "output_type": "stream",
          "text": [
            "findfont: Font family ['sans-serif'] not found. Falling back to DejaVu Sans.\n"
          ],
          "name": "stderr"
        },
        {
          "output_type": "display_data",
          "data": {
            "image/png": "[encoded data removed]",
            "text/plain": [
              "<Figure size 432x288 with 1 Axes>"
            ]
          },
          "metadata": {
            "tags": [],
            "needs_background": "light"
          }
        }
      ]
    },
    {
      "cell_type": "code",
      "metadata": {
        "id": "k43oSCmQky60"
      },
      "source": [
        "labels = ['等級A','等級B',\"等級C\"]"
      ],
      "execution_count": null,
      "outputs": []
    },
    {
      "cell_type": "code",
      "metadata": {
        "id": "e3df1ChNky61",
        "colab": {
          "base_uri": "https://localhost:8080/"
        },
        "outputId": "460eccbe-48ac-4d5f-884e-4fda46961b61"
      },
      "source": [
        "# 將圖像轉成模型可分析格式(800x800x3, float32)\n",
        "x = img_to_array(img)  # Numpy array with shape (800, 800, 3)\n",
        "x = x.reshape((1,) + x.shape)  # Numpy array with shape (1, 800, 800, 3)\n",
        "x /= 255 # Rescale by 1/255\n",
        "\n",
        "start = time.time() # 啟動計時器\n",
        "result = model.predict(x) # 對輸入圖像進行推論(預測)\n",
        "finish = time.time() # 結束計時器\n",
        "\n",
        "pred = result.argmax(axis=1)[0]\n",
        "pred_prob = result[0][pred]\n",
        "\n",
        "print(\"Result = %f\" %pred_prob) # 印出結果可能機率值(0.0 ~ 1.0)\n",
        "print(\"Test time :%f second.\" %(finish-start)) # 印出推論時間\n",
        "\n",
        "# 設定分類門檻值並印出推論結果\n",
        "print(\"有 {:.2f}% 機率為{}\".format(pred_prob * 100,labels[pred])) # 印出推論時間"
      ],
      "execution_count": null,
      "outputs": [
        {
          "output_type": "stream",
          "text": [
            "Result = 0.997456\n",
            "Test time :0.327664 second.\n",
            "有 99.75% 機率為等級B\n"
          ],
          "name": "stdout"
        }
      ]
    },
    {
      "cell_type": "markdown",
      "metadata": {
        "id": "y8LFpb0aky63"
      },
      "source": [
        "## 玖、測試集預測準確度"
      ]
    },
    {
      "cell_type": "code",
      "metadata": {
        "id": "UHO_AcgBky63"
      },
      "source": [
        "# 測試集標籤預測\n",
        "y_pred = model.predict(x_test)"
      ],
      "execution_count": null,
      "outputs": []
    },
    {
      "cell_type": "code",
      "metadata": {
        "id": "zz83__feky65",
        "colab": {
          "base_uri": "https://localhost:8080/"
        },
        "outputId": "66de9be7-3b62-4375-8812-9b79636ad2ff"
      },
      "source": [
        "# 整體準確度\n",
        "count = 0\n",
        "for i in range(len(y_pred)):\n",
        "    if(np.argmax(y_pred[i]) == np.argmax(y_test[i])): #argmax函数找到最大值的索引，即为其类别\n",
        "        count += 1\n",
        "score = count/len(y_pred)\n",
        "print('正确率为:%.2f%s' % (score*100,'%'))"
      ],
      "execution_count": null,
      "outputs": [
        {
          "output_type": "stream",
          "text": [
            "正确率为:82.00%\n"
          ],
          "name": "stdout"
        }
      ]
    },
    {
      "cell_type": "code",
      "metadata": {
        "id": "zJ_qqeYbky67",
        "colab": {
          "base_uri": "https://localhost:8080/"
        },
        "outputId": "a2419102-baf7-414b-c43b-5c66c951e1b6"
      },
      "source": [
        "# 模型預測後的標籤\n",
        "predict_label = np.argmax(y_pred,axis=1)\n",
        "print(predict_label)\n",
        "print(len(predict_label))"
      ],
      "execution_count": null,
      "outputs": [
        {
          "output_type": "stream",
          "text": [
            "[1 0 2 0 1 2 1 2 0 0 2 2 1 1 1 1 1 2 2 1 0 2 1 0 2 1 0 2 2 0 2 0 1 1 2 1 2\n",
            " 2 1 1 1 2 1 2 1 1 0 2 0 0 2 0 1 2 2 0 2 0 1 2 1 1 1 1 1 0 1 2 1 0 0 1 0 2\n",
            " 1 1 0 0 2 1 1 1 0 0 2 0 1 0 0 2 0 2 1 2 0 2 1 1 1 1 1 0 0 2 0 2 0 0 0 0 0\n",
            " 0 1 1 2 0 1 0 0 1 1 0 2 2 1 2 2 0 1 1 1 0 2 1 0 0 1 2 0 1 2 1 0 1 0 2 2 2\n",
            " 1 1 1 0 0 1 0 0 0 0 2 2 1 0 1 1 2 1 0 2 0 2 1 2 0 1 1 1 2 2 1 1 1 1 1 2 0\n",
            " 1 2 2 1 2 1 0 0 2 2 1 0 1 2 0]\n",
            "200\n"
          ],
          "name": "stdout"
        }
      ]
    },
    {
      "cell_type": "code",
      "metadata": {
        "id": "U7GBs7ttky68",
        "colab": {
          "base_uri": "https://localhost:8080/"
        },
        "outputId": "569d4482-bfa3-456b-8fe9-55f5ba1191cd"
      },
      "source": [
        "# 模型原標籤\n",
        "true_label = y_label_org[3800:]\n",
        "true_label = np.array(true_label)\n",
        "print(true_label)\n",
        "print(len(true_label))"
      ],
      "execution_count": null,
      "outputs": [
        {
          "output_type": "stream",
          "text": [
            "['1' '0' '2' '0' '1' '2' '0' '1' '0' '1' '2' '2' '1' '1' '1' '1' '1' '2'\n",
            " '2' '1' '0' '2' '0' '0' '2' '1' '0' '2' '2' '0' '2' '0' '1' '1' '2' '1'\n",
            " '2' '2' '0' '0' '1' '2' '1' '2' '1' '1' '0' '2' '1' '0' '2' '0' '1' '2'\n",
            " '2' '0' '2' '0' '1' '2' '1' '1' '1' '1' '1' '0' '2' '2' '1' '0' '0' '1'\n",
            " '0' '2' '2' '1' '0' '1' '2' '1' '1' '1' '0' '1' '2' '0' '0' '0' '0' '2'\n",
            " '0' '2' '1' '2' '0' '2' '0' '2' '0' '0' '1' '0' '0' '1' '1' '2' '0' '0'\n",
            " '1' '0' '0' '0' '0' '1' '2' '0' '1' '0' '0' '1' '1' '1' '2' '2' '0' '2'\n",
            " '2' '0' '1' '1' '0' '0' '2' '1' '0' '0' '1' '1' '2' '1' '1' '1' '1' '1'\n",
            " '0' '2' '2' '2' '1' '1' '1' '1' '0' '1' '0' '0' '0' '0' '2' '2' '1' '2'\n",
            " '1' '2' '2' '1' '0' '2' '0' '2' '1' '2' '0' '1' '2' '1' '2' '2' '1' '1'\n",
            " '2' '0' '0' '2' '0' '1' '2' '2' '1' '2' '1' '0' '0' '2' '1' '1' '0' '2'\n",
            " '2' '0']\n",
            "200\n"
          ],
          "name": "stdout"
        }
      ]
    },
    {
      "cell_type": "code",
      "metadata": {
        "id": "wEV8ymtXky6-",
        "colab": {
          "base_uri": "https://localhost:8080/"
        },
        "outputId": "426bf758-e98c-4431-e5bb-4b2c49a90e03"
      },
      "source": [
        "# 模型預測後的標籤\n",
        "predictions = model.predict_classes(x_test)\n",
        "print(predictions)\n",
        "print(len(predictions))"
      ],
      "execution_count": null,
      "outputs": [
        {
          "output_type": "stream",
          "text": [
            "/usr/local/lib/python3.7/dist-packages/tensorflow/python/keras/engine/sequential.py:455: UserWarning: `model.predict_classes()` is deprecated and will be removed after 2021-01-01. Please use instead:* `np.argmax(model.predict(x), axis=-1)`,   if your model does multi-class classification   (e.g. if it uses a `softmax` last-layer activation).* `(model.predict(x) > 0.5).astype(\"int32\")`,   if your model does binary classification   (e.g. if it uses a `sigmoid` last-layer activation).\n",
            "  warnings.warn('`model.predict_classes()` is deprecated and '\n"
          ],
          "name": "stderr"
        },
        {
          "output_type": "stream",
          "text": [
            "[1 0 2 0 1 2 1 2 0 0 2 2 1 1 1 1 1 2 2 1 0 2 1 0 2 1 0 2 2 0 2 0 1 1 2 1 2\n",
            " 2 1 1 1 2 1 2 1 1 0 2 0 0 2 0 1 2 2 0 2 0 1 2 1 1 1 1 1 0 1 2 1 0 0 1 0 2\n",
            " 1 1 0 0 2 1 1 1 0 0 2 0 1 0 0 2 0 2 1 2 0 2 1 1 1 1 1 0 0 2 0 2 0 0 0 0 0\n",
            " 0 1 1 2 0 1 0 0 1 1 0 2 2 1 2 2 0 1 1 1 0 2 1 0 0 1 2 0 1 2 1 0 1 0 2 2 2\n",
            " 1 1 1 0 0 1 0 0 0 0 2 2 1 0 1 1 2 1 0 2 0 2 1 2 0 1 1 1 2 2 1 1 1 1 1 2 0\n",
            " 1 2 2 1 2 1 0 0 2 2 1 0 1 2 0]\n",
            "200\n"
          ],
          "name": "stdout"
        }
      ]
    },
    {
      "cell_type": "code",
      "metadata": {
        "id": "8W-hJ2mcky7A",
        "colab": {
          "base_uri": "https://localhost:8080/"
        },
        "outputId": "a1f8623f-5e88-4dbe-f3d5-32f0f361a98b"
      },
      "source": [
        "pd.crosstab(true_label,predict_label,rownames=['實際值'],colnames=['預測值'])"
      ],
      "execution_count": null,
      "outputs": [
        {
          "output_type": "execute_result",
          "data": {
            "text/html": [
              "<div>\n",
              "<style scoped>\n",
              "    .dataframe tbody tr th:only-of-type {\n",
              "        vertical-align: middle;\n",
              "    }\n",
              "\n",
              "    .dataframe tbody tr th {\n",
              "        vertical-align: top;\n",
              "    }\n",
              "\n",
              "    .dataframe thead th {\n",
              "        text-align: right;\n",
              "    }\n",
              "</style>\n",
              "<table border=\"1\" class=\"dataframe\">\n",
              "  <thead>\n",
              "    <tr style=\"text-align: right;\">\n",
              "      <th>預測值</th>\n",
              "      <th>0</th>\n",
              "      <th>1</th>\n",
              "      <th>2</th>\n",
              "    </tr>\n",
              "    <tr>\n",
              "      <th>實際值</th>\n",
              "      <th></th>\n",
              "      <th></th>\n",
              "      <th></th>\n",
              "    </tr>\n",
              "  </thead>\n",
              "  <tbody>\n",
              "    <tr>\n",
              "      <th>0</th>\n",
              "      <td>52</td>\n",
              "      <td>13</td>\n",
              "      <td>0</td>\n",
              "    </tr>\n",
              "    <tr>\n",
              "      <th>1</th>\n",
              "      <td>9</td>\n",
              "      <td>58</td>\n",
              "      <td>5</td>\n",
              "    </tr>\n",
              "    <tr>\n",
              "      <th>2</th>\n",
              "      <td>2</td>\n",
              "      <td>7</td>\n",
              "      <td>54</td>\n",
              "    </tr>\n",
              "  </tbody>\n",
              "</table>\n",
              "</div>"
            ],
            "text/plain": [
              "預測值   0   1   2\n",
              "實際值            \n",
              "0    52  13   0\n",
              "1     9  58   5\n",
              "2     2   7  54"
            ]
          },
          "metadata": {
            "tags": []
          },
          "execution_count": 65
        }
      ]
    },
    {
      "cell_type": "code",
      "metadata": {
        "id": "a8ddTbCIo1DZ",
        "colab": {
          "base_uri": "https://localhost:8080/"
        },
        "outputId": "3a470762-ba03-4010-b848-a147393c2b30"
      },
      "source": [
        "# 儲存模型相關參數\n",
        "model.save('./checkpoint'+file_name+'06050130'+'/saved_model')"
      ],
      "execution_count": null,
      "outputs": [
        {
          "output_type": "stream",
          "text": [
            "INFO:tensorflow:Assets written to: ./checkpoint60_320615013006050130/saved_model/assets\n"
          ],
          "name": "stdout"
        }
      ]
    }
  ]
}